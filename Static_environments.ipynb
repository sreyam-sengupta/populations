{
 "cells": [
  {
   "cell_type": "code",
   "execution_count": 1,
   "id": "96590902",
   "metadata": {
    "scrolled": true
   },
   "outputs": [
    {
     "data": {
      "text/html": [
       "<style>.container { width:100% !important; }</style>"
      ],
      "text/plain": [
       "<IPython.core.display.HTML object>"
      ]
     },
     "metadata": {},
     "output_type": "display_data"
    }
   ],
   "source": [
    "import math\n",
    "import numpy as np\n",
    "import random as rand\n",
    "from numba import jit,int64,float64\n",
    "import matplotlib.pyplot as plt\n",
    "%matplotlib inline\n",
    "\n",
    "#To increase cell width:\n",
    "from IPython.display import display, HTML\n",
    "display(HTML(\"<style>.container { width:100% !important; }</style>\"))\n",
    "\n",
    "#Color-blind friendly colors to plot:\n",
    "# CB_colors = ['#377eb8', '#ff7f00', '#4daf4a','#f781bf', '#a65628', '#984ea3','#999999', '#e41a1c', '#dede00']\n",
    "# CB_colors.reverse()\n",
    "CB_colors = ['#00429d', '#93003a']"
   ]
  },
  {
   "cell_type": "code",
   "execution_count": 2,
   "id": "70316051",
   "metadata": {},
   "outputs": [
    {
     "name": "stdout",
     "output_type": "stream",
     "text": [
      "1000000\n",
      "K = 1; 0.5*dg/dt = 20000.0\n",
      "D = 25.0; 0.5*dg**2/dt = 8000.000000000001\n"
     ]
    }
   ],
   "source": [
    "#The spacetime parameters. Let the population distribution of gene expression level be g:\n",
    "g_min = 0\n",
    "g_max = 100\n",
    "dg = 0.4\n",
    "#Defining a g_ghost which contains two extra `ghost' points at the edges:\n",
    "g_ghost = np.arange(g_min-dg,g_max+2*dg,dg)\n",
    "g = np.array(g_ghost[1:-1])\n",
    "#The peak of the unregulated distribution:\n",
    "g_peak = 0.5*(g_min+g_max)\n",
    "\n",
    "#Parameters:\n",
    "K = 1\n",
    "delta = 1000\n",
    "alpha = 0.5\n",
    "\n",
    "#Constant environment, T fixed:\n",
    "dt = np.minimum(0.00005/K,0.01/delta)\n",
    "T = 10\n",
    "# #If tau is too large, we don't change:\n",
    "# num_cycles = 8\n",
    "# T = num_cycles*tau\n",
    "TimeRange = np.arange(0,T,dt)\n",
    "print(len(TimeRange))\n",
    "\n",
    "#Tolerance to calculate entropy:\n",
    "eps = 1e-100\n",
    "\n",
    "#The noise variance D:\n",
    "D = alpha*K*g_peak\n",
    "\n",
    "#Checks:\n",
    "print(f\"K = {K}; 0.5*dg/dt = {0.5*dg/dt}\")\n",
    "print(f\"D = {D}; 0.5*dg**2/dt = {0.5*dg**2/dt}\")\n",
    "\n",
    "#Stability check:\n",
    "flag_stability=0\n",
    "if (K>=int(0.5*dg/dt) or D>=int(0.5*dg**2/dt)):\n",
    "    flag_stability=1\n",
    "    print(\"Warning! FTCS unstable.\")"
   ]
  },
  {
   "cell_type": "code",
   "execution_count": 3,
   "id": "ef8b5a63",
   "metadata": {},
   "outputs": [],
   "source": [
    "#First derivative, central difference method (used in the potential term K*d/dg (g*P)):\n",
    "@jit(\"float64[:](float64[:],float64)\",nopython=True)\n",
    "def derv1(func,dx):\n",
    "    func_left = func[0:-2]\n",
    "    func_right = func[2:]\n",
    "    #Below we calculate the first derivative using the central difference method:\n",
    "    derivative = (func_right - func_left)/(2*dx)\n",
    "    return derivative\n",
    "\n",
    "#Second derivative using central difference, used in the diffusion term (D*d2/dg2 (P)):\n",
    "@jit(\"float64[:](float64[:],float64)\",nopython=True)\n",
    "def derv2(func,dx):\n",
    "    func_left = func[0:-2]\n",
    "    func_right = func[2:]\n",
    "    func_center = func[1:-1]\n",
    "    #Below we calculate the second derivative, again using central difference method:\n",
    "    derivative2 = (func_right + func_left - 2*func_center)/(dx**2)\n",
    "    return derivative2\n",
    "\n",
    "#Defining a Gaussian pdf - we'll need it for P(g,t=0), the initial distribution:\n",
    "@jit(nopython=True)\n",
    "def Gaussian(x,mu,sigma):\n",
    "    dist = 1/(sigma*np.sqrt(2*np.pi))*np.exp(-0.5*((x-mu)/sigma)**2)\n",
    "    return dist\n",
    "\n",
    "#The function to calculate <f> dynamically, i.e. int_g f(g,s) P(g,t):\n",
    "@jit(nopython=True)\n",
    "def mean_wrt_P(func,P,g):\n",
    "    integrand = func*P\n",
    "    integral = np.trapz(integrand,g)\n",
    "    return integral\n",
    "\n",
    "#Defining the fitness function:\n",
    "# @jit([\"float64[:](float64[:],float64,float64)\",\"float64(float64,float64,float64)\"],nopython=True)\n",
    "def fitness(g,s,delta):\n",
    "    fit = delta*(g*s/(400+s) - (2/17)*g/(1-g/(1.8*g_max)))/g_max\n",
    "    return fit\n",
    "\n",
    "@jit(nopython=True)\n",
    "def discrete_entropy(p_dist):\n",
    "    p_dist = p_dist[np.where(np.clip(p_dist,eps,None)>eps)]\n",
    "    return np.sum(p_dist*np.log2(1/p_dist))\n",
    "\n",
    "@jit(nopython=True)\n",
    "def cont_entropy(p_dist):\n",
    "    p_dist = p_dist[np.where(np.clip(p_dist,eps,None)>eps)]\n",
    "    return np.trapz(p_dist*np.log2(1/p_dist),dx=dg)\n",
    "\n",
    "@jit(nopython=True)\n",
    "def selection_const_noise(p0_unreg,p0_reg,s,K,alpha,delta,T,dt):\n",
    "    #First, time:\n",
    "#     dt = 0.0001/K\n",
    "    TimeRange = np.arange(0,T,dt)\n",
    "    \n",
    "    #Then, define the fitness function:\n",
    "    fit = delta*(g*s/(400+s) - (2/17)*g/(1-g/(1.8*g_max)))/g_max\n",
    "    g_reg = g[np.argmax(fit)]\n",
    "\n",
    "    #Now let's compare the effects of regulation vs selection:\n",
    "    p_unreg = p0_unreg\n",
    "    p_reg = p0_reg\n",
    "    flag_unreg = 0\n",
    "    flag_reg = 0\n",
    "    \n",
    "#     #Storing dynamic fitness:\n",
    "#     dyn_fit_unreg = np.zeros_like\n",
    "\n",
    "    #Now evolve it:\n",
    "    for t in range(len(TimeRange)):\n",
    "        #Constant noise:\n",
    "        D_unreg = alpha*K*g_peak\n",
    "        D_reg = alpha*K*g_peak\n",
    "\n",
    "    #     #Checks:\n",
    "    #     if (t%10==0):\n",
    "    #         print(f\"\\nt={t}; g_mean_unreg={round(g_mean_unreg,2)}; D_unreg={round(D_unreg,2)}; max allowed={0.5*dg**2/dt}\")\n",
    "    #         print(f\"t={t}; g_mean_reg={round(g_mean_reg,2)}; D_reg={round(D_reg,2)}; max allowed={0.5*dg**2/dt}\")        \n",
    "\n",
    "        #Now creating the expanded p's, with ghost points. The bulk points are the same in each. Unregulated:\n",
    "        p_unreg_ghost = np.zeros(len(p_unreg)+2)\n",
    "        p_unreg_ghost[1:-1] = p_unreg\n",
    "        #Regulated:\n",
    "        p_reg_ghost = np.zeros(len(p_reg)+2)\n",
    "        p_reg_ghost[1:-1] = p_reg\n",
    "\n",
    "        #Setting the value of the ghost points. This represents the zero flux boundary conditions. Unregulated:\n",
    "        p_unreg_ghost[0] = p_unreg[1] + 2*dg*(K/D_unreg)*(g[0]-g_peak)*p_unreg[0]\n",
    "        p_unreg_ghost[-1] = p_unreg[-2] + 2*dg*(K/D_unreg)*(g_peak-g[-1])*p_unreg[-1]\n",
    "        #Regulated:\n",
    "        p_reg_ghost[0] = p_reg[1] + 2*dg*(K/D_reg)*(g[0]-g_reg)*p_reg[0]\n",
    "        p_reg_ghost[-1] = p_reg[-2] + 2*dg*(K/D_reg)*(g_reg-g[-1])*p_reg[-1]    \n",
    "\n",
    "        #Now to solve the equation. Unregulated first:\n",
    "        p_unreg += dt*((fit - mean_wrt_P(fit,p_unreg,g))*p_unreg \\\n",
    "                    + K*derv1((g_ghost-g_peak)*p_unreg_ghost,dg) + D_unreg*derv2(p_unreg_ghost,dg))\n",
    "        p_reg += dt*((fit - mean_wrt_P(fit,p_reg,g))*p_reg \\\n",
    "                    + K*derv1((g_ghost-g_reg)*p_reg_ghost,dg) + D_reg*derv2(p_reg_ghost,dg))\n",
    "\n",
    "#         #Finally, for the edge cases, we normalize:\n",
    "#         if (flag_unreg==1 or delta>=1):\n",
    "#             p_unreg = p_unreg/np.trapz(p_unreg,dx=dg)\n",
    "#         if (flag_reg==1 or delta>=1):\n",
    "#             p_reg = p_reg/np.trapz(p_reg,dx=dg)\n",
    "            \n",
    "    return p_unreg,p_reg\n",
    "\n",
    "@jit(nopython=True)\n",
    "def selection_dyn_const_noise(p0_unreg,p0_reg,sug_dyn,K,alpha,delta,T,dt):\n",
    "    #First, time:\n",
    "    TimeRange = np.arange(0,T,dt)    \n",
    "    \n",
    "    #Then, define the fitness function:\n",
    "    s = sug_dyn[0]\n",
    "    fit = delta*(g*s/(400+s) - (2/17)*g/(1-g/(1.8*g_max)))/g_max\n",
    "    g_reg = g[np.argmax(fit)]\n",
    "\n",
    "    #Now let's compare the effects of regulation vs selection:\n",
    "    p_unreg = p0_unreg\n",
    "    p_reg = p0_reg\n",
    "    flag_unreg = 0\n",
    "    flag_reg = 0\n",
    "    \n",
    "    #Storing dynamic fitness:\n",
    "    dyn_fit_unreg, dyn_norm_fit_unreg, dyn_fit_reg, dyn_norm_fit_reg = np.zeros_like(TimeRange), np.zeros_like(TimeRange), np.zeros_like(TimeRange), np.zeros_like(TimeRange)\n",
    "    #Dynamic distributions:\n",
    "    dyn_p_unreg, dyn_p_reg = np.zeros((len(TimeRange),len(g))), np.zeros((len(TimeRange),len(g)))\n",
    "    dyn_p_unreg[0,:], dyn_p_reg[0,:] = p_unreg, p_reg    \n",
    "\n",
    "    #Now evolve it:\n",
    "    for t in range(len(TimeRange)):\n",
    "        #First setting the dynamic sugar and g_reg:\n",
    "        s = sug_dyn[t]\n",
    "        fit = delta*(g*s/(400+s) - (2/17)*g/(1-g/(1.8*g_max)))/g_max\n",
    "        g_reg = g[np.argmax(fit)]\n",
    "            \n",
    "        #Constant noise:\n",
    "        D_unreg = alpha*K*g_peak\n",
    "        D_reg = alpha*K*g_peak\n",
    "\n",
    "    #     #Checks:\n",
    "    #     if (t%10==0):\n",
    "    #         print(f\"\\nt={t}; g_mean_unreg={round(g_mean_unreg,2)}; D_unreg={round(D_unreg,2)}; max allowed={0.5*dg**2/dt}\")\n",
    "    #         print(f\"t={t}; g_mean_reg={round(g_mean_reg,2)}; D_reg={round(D_reg,2)}; max allowed={0.5*dg**2/dt}\")        \n",
    "\n",
    "        #Now creating the expanded p's, with ghost points. The bulk points are the same in each. Unregulated:\n",
    "        p_unreg_ghost = np.zeros(len(p_unreg)+2)\n",
    "        p_unreg_ghost[1:-1] = p_unreg\n",
    "        #Regulated:\n",
    "        p_reg_ghost = np.zeros(len(p_reg)+2)\n",
    "        p_reg_ghost[1:-1] = p_reg\n",
    "\n",
    "        #Setting the value of the ghost points. This represents the zero flux boundary conditions. Unregulated:\n",
    "        p_unreg_ghost[0] = p_unreg[1] + 2*dg*(K/D_unreg)*(g[0]-g_peak)*p_unreg[0]\n",
    "        p_unreg_ghost[-1] = p_unreg[-2] + 2*dg*(K/D_unreg)*(g_peak-g[-1])*p_unreg[-1]\n",
    "        #Regulated:\n",
    "        p_reg_ghost[0] = p_reg[1] + 2*dg*(K/D_reg)*(g[0]-g_reg)*p_reg[0]\n",
    "        p_reg_ghost[-1] = p_reg[-2] + 2*dg*(K/D_reg)*(g_reg-g[-1])*p_reg[-1]    \n",
    "\n",
    "        #Now to solve the equation. Unregulated first:\n",
    "        p_unreg += dt*((fit - mean_wrt_P(fit,p_unreg,g))*p_unreg \\\n",
    "                    + K*derv1((g_ghost-g_peak)*p_unreg_ghost,dg) + D_unreg*derv2(p_unreg_ghost,dg))\n",
    "        p_reg += dt*((fit - mean_wrt_P(fit,p_reg,g))*p_reg \\\n",
    "                    + K*derv1((g_ghost-g_reg)*p_reg_ghost,dg) + D_reg*derv2(p_reg_ghost,dg))\n",
    "\n",
    "#         #Finally, for the edge cases, we normalize:\n",
    "#         if (flag_unreg==1 or delta>=1): #Because apparently this blows up temporarily when delta>1\n",
    "#             p_unreg = p_unreg/np.trapz(p_unreg,dx=dg)\n",
    "#         if (flag_reg==1 or delta>=1):\n",
    "#             p_reg = p_reg/np.trapz(p_reg,dx=dg)\n",
    "            \n",
    "        #Storing the dynamic distributions:\n",
    "        dyn_p_unreg[t,:], dyn_p_reg[t,:] = p_unreg, p_reg\n",
    "            \n",
    "        #Now calculating the dynamic fitnesses, absolute:\n",
    "        dyn_fit_unreg[t] = mean_wrt_P(fit,p_unreg,g)\n",
    "        dyn_fit_reg[t] = mean_wrt_P(fit,p_reg,g)\n",
    "        #Normalized:\n",
    "        dyn_norm_fit_unreg[t] = (dyn_fit_unreg[t] - np.min(fit))/(np.max(fit) - np.min(fit))\n",
    "        dyn_norm_fit_reg[t] = (dyn_fit_reg[t] - np.min(fit))/(np.max(fit) - np.min(fit))\n",
    "            \n",
    "    return dyn_p_unreg, dyn_p_reg, dyn_fit_unreg, dyn_norm_fit_unreg, dyn_fit_reg, dyn_norm_fit_reg"
   ]
  },
  {
   "cell_type": "code",
   "execution_count": 4,
   "id": "6a2fdef0",
   "metadata": {},
   "outputs": [
    {
     "name": "stdout",
     "output_type": "stream",
     "text": [
      "dt*delta = 0.005\n",
      "dt*K = 5e-05\n",
      "No. of timepoints: 100000\n",
      "K = 1; 0.5*dg/dt = 4000.0\n",
      "D = 25.0; 0.5*dg**2/dt = 1600.0000000000002\n",
      "g optima: [18 32 51 74 94]\n"
     ]
    }
   ],
   "source": [
    "#Let's try to find average colony fitness over many sugars:\n",
    "# sugars_arr = np.logspace(np.log10(60),np.log10(430),num=3)\n",
    "sugars_arr = np.array([68,85,120,210,430]) #63,80,120,210,430\n",
    "g_opt_arr = np.zeros_like(sugars_arr)\n",
    "\n",
    "for sug_idx in range(len(sugars_arr)):\n",
    "    g_opt_arr[sug_idx] = g[np.argmax(fitness(g,sugars_arr[sug_idx],delta))]\n",
    "    \n",
    "#Probability of sugars:\n",
    "p_sug = np.ones_like(sugars_arr)\n",
    "p_sug = p_sug/np.sum(p_sug)\n",
    "\n",
    "#The fitness arrays over multiple environments:\n",
    "dyn_fit_unreg_arr = np.zeros((len(sugars_arr),len(TimeRange)))\n",
    "dyn_fit_reg_arr = np.zeros((len(sugars_arr),len(TimeRange)))\\\n",
    "\n",
    "#Parameters:\n",
    "K = 1\n",
    "delta = 100\n",
    "alpha = 0.5\n",
    "\n",
    "#Constant environment, T fixed:\n",
    "dt = np.minimum(0.00005/K,0.01/delta)\n",
    "T = 5\n",
    "TimeRange = np.arange(0,T,dt)\n",
    "\n",
    "#The noise variance D:\n",
    "D = alpha*K*g_peak\n",
    "\n",
    "#Checks:\n",
    "print(f\"dt*delta = {dt*delta}\")\n",
    "print(f\"dt*K = {dt*K}\")\n",
    "print(f\"No. of timepoints: {len(TimeRange)}\")\n",
    "print(f\"K = {K}; 0.5*dg/dt = {0.5*dg/dt}\")\n",
    "print(f\"D = {D}; 0.5*dg**2/dt = {0.5*dg**2/dt}\")\n",
    "print(f\"g optima: {g_opt_arr}\")\n",
    "\n",
    "#Stability check:\n",
    "flag_stability=0\n",
    "if (K>=int(0.5*dg/dt) or D>=int(0.5*dg**2/dt)):\n",
    "    flag_stability=1\n",
    "    print(\"Warning! FTCS unstable.\")\n",
    "\n",
    "\n",
    "#Initials:\n",
    "p0_unreg = Gaussian(g,g_peak,np.maximum(np.sqrt(alpha*g_peak),1))\n",
    "p0_unreg = p0_unreg/np.trapz(p0_unreg,dx=dg)\n",
    "p0_reg = Gaussian(g,g_peak,np.maximum(np.sqrt(alpha*g_peak),1))\n",
    "p0_reg = p0_reg/np.trapz(p0_reg,dx=dg)"
   ]
  },
  {
   "cell_type": "code",
   "execution_count": 5,
   "id": "de304729",
   "metadata": {},
   "outputs": [
    {
     "data": {
      "text/plain": [
       "array([ 0.5  ,  2.125,  3.75 ,  5.375,  7.   ,  8.625, 10.25 , 11.875,\n",
       "       13.5  ])"
      ]
     },
     "execution_count": 5,
     "metadata": {},
     "output_type": "execute_result"
    }
   ],
   "source": [
    "np.linspace(start=0.5,stop=13.5,num=9)"
   ]
  },
  {
   "cell_type": "code",
   "execution_count": null,
   "id": "442e830f",
   "metadata": {},
   "outputs": [],
   "source": []
  },
  {
   "cell_type": "code",
   "execution_count": 34,
   "id": "102468cd",
   "metadata": {},
   "outputs": [],
   "source": [
    "#Choosing deltas and alphas:\n",
    "deltas_arr = np.array([10**i for i in range(3,5)])\n",
    "# alphas_arr = np.array([0.5,1.5,4.5,13.5])\n",
    "alphas_arr = np.linspace(start=0.5,stop=13.5,num=9)\n",
    "\n",
    "#To show the distinguishability, let's initialize some populations and evolve them:\n",
    "p_unreg_sug = np.zeros((len(deltas_arr),len(alphas_arr),len(sugars_arr),len(g)))\n",
    "p_reg_sug = np.zeros((len(deltas_arr),len(alphas_arr),len(sugars_arr),len(g)))\n",
    "fit_unreg_sug = np.zeros((len(deltas_arr),len(alphas_arr),len(sugars_arr)))\n",
    "fit_reg_sug = np.zeros((len(deltas_arr),len(alphas_arr),len(sugars_arr)))\n",
    "fit_norm_unreg = np.zeros((len(deltas_arr),len(alphas_arr)))\n",
    "fit_norm_reg = np.zeros((len(deltas_arr),len(alphas_arr)))\n",
    "\n",
    "#First looping over deltas, then alphas:\n",
    "for delta_idx in range(len(deltas_arr)):\n",
    "    delta = deltas_arr[delta_idx]\n",
    "    for alpha_idx in range(len(alphas_arr)):\n",
    "        alpha = alphas_arr[alpha_idx]\n",
    "        dt = np.minimum(0.00005/K,0.01/delta)\n",
    "        T = 10\n",
    "        #To calculate normalized fitness:\n",
    "        fit_unreg_sum = 0\n",
    "        fit_reg_sum = 0\n",
    "        #For each sugar, we find the distributions given the parameters:\n",
    "        for sug_idx in range(len(sugars_arr)):\n",
    "            #Initials:\n",
    "            p0_unreg = Gaussian(g,g_peak,np.maximum(np.sqrt(alpha*g_peak),1))\n",
    "            p0_unreg = p0_unreg/np.trapz(p0_unreg,dx=dg)\n",
    "            p0_reg = Gaussian(g,g_peak,np.maximum(np.sqrt(alpha*g_peak),1))\n",
    "            p0_reg = p0_reg/np.trapz(p0_reg,dx=dg)\n",
    "            #Sugar and reg peak:\n",
    "            sug = sugars_arr[sug_idx]\n",
    "            g_reg = g[np.argmax(fitness(g,sug,delta))]\n",
    "            #Evolution:\n",
    "            p_unreg_sug[delta_idx,alpha_idx,sug_idx],p_reg_sug[delta_idx,alpha_idx,sug_idx] = selection_const_noise(p0_unreg,p0_reg,sug,K,alpha,delta,T,dt)\n",
    "            fit_unreg_sug[delta_idx,alpha_idx,sug_idx] = mean_wrt_P(fitness(g,sug,delta),p_unreg_sug[delta_idx,alpha_idx,sug_idx],g)\n",
    "            fit_reg_sug[delta_idx,alpha_idx,sug_idx] = mean_wrt_P(fitness(g,sug,delta),p_reg_sug[delta_idx,alpha_idx,sug_idx],g)\n",
    "            #Normalized fitness:\n",
    "            fit_unreg_sum += (fit_unreg_sug[delta_idx,alpha_idx,sug_idx] - np.min(fitness(g,sug,delta)))/(np.max(fitness(g,sug,delta)) - np.min(fitness(g,sug,delta)))\n",
    "            fit_reg_sum += (fit_reg_sug[delta_idx,alpha_idx,sug_idx] - np.min(fitness(g,sug,delta)))/(np.max(fitness(g,sug,delta)) - np.min(fitness(g,sug,delta)))        \n",
    "        #The normalized fitness:\n",
    "        fit_norm_unreg[delta_idx,alpha_idx] = fit_unreg_sum/len(sugars_arr)\n",
    "        fit_norm_reg[delta_idx,alpha_idx] = fit_reg_sum/len(sugars_arr)"
   ]
  },
  {
   "cell_type": "code",
   "execution_count": 35,
   "id": "9b5671df",
   "metadata": {},
   "outputs": [
    {
     "data": {
      "text/plain": [
       "1.0097162106470934"
      ]
     },
     "execution_count": 35,
     "metadata": {},
     "output_type": "execute_result"
    }
   ],
   "source": [
    "np.max(np.trapz(p_unreg_sug,axis=3,dx=dg))"
   ]
  },
  {
   "cell_type": "code",
   "execution_count": 39,
   "id": "15e2f4dc",
   "metadata": {},
   "outputs": [
    {
     "data": {
      "text/plain": [
       "(2, 9)"
      ]
     },
     "execution_count": 39,
     "metadata": {},
     "output_type": "execute_result"
    }
   ],
   "source": [
    "np.shape(fit_norm_reg)"
   ]
  },
  {
   "cell_type": "code",
   "execution_count": 78,
   "id": "d0b11033",
   "metadata": {},
   "outputs": [
    {
     "data": {
      "image/png": "[encoded data removed]",
      "text/plain": [
       "<Figure size 432x288 with 1 Axes>"
      ]
     },
     "metadata": {
      "needs_background": "light"
     },
     "output_type": "display_data"
    }
   ],
   "source": [
    "fig,ax = plt.subplots(1,1)\n",
    "# ax.set_box_aspect(1)\n",
    "# ax.set_ylim([0.99*np.min(fit_norm_unreg), 1.01*np.max(fit_norm_unreg)])\n",
    "ax.scatter(np.sqrt(alphas_arr*g_peak),fit_norm_unreg[0],color='k',label='unregulated ensemble pop. fitness')\n",
    "ax.tick_params(axis='both', which='major', labelsize=12)\n",
    "ax.tick_params(axis='both', which='minor', labelsize=10)\n",
    "ax.set_xlabel(r'Noise $\\alpha$',fontsize=18)\n",
    "ax.set_ylabel('Norm. avg. fitness',fontsize=18)\n",
    "ax.legend(loc=\"lower right\",fontsize=12)\n",
    "ax.set_title(fr'Norm. fitness vs. noise, $\\delta$ = {deltas_arr[0]}', fontsize=20)\n",
    "fig.savefig(\"20221212_POPULATIONS_optimal noise_delta1000.pdf\",format=\"pdf\",dpi=400)"
   ]
  },
  {
   "cell_type": "code",
   "execution_count": 79,
   "id": "83c352a6",
   "metadata": {},
   "outputs": [
    {
     "data": {
      "image/png": "[encoded data removed]",
      "text/plain": [
       "<Figure size 432x288 with 1 Axes>"
      ]
     },
     "metadata": {
      "needs_background": "light"
     },
     "output_type": "display_data"
    }
   ],
   "source": [
    "fig,ax = plt.subplots(1,1)\n",
    "# ax.set_box_aspect(1)\n",
    "# ax.set_ylim([0.95*np.min(fit_norm_unreg), 1.05*np.max(fit_norm_unreg)])\n",
    "ax.scatter(np.sqrt(alphas_arr*g_peak),fit_norm_unreg[1],color='k',label='unregulated ensemble pop. fitness')\n",
    "ax.tick_params(axis='both', which='major', labelsize=12)\n",
    "ax.tick_params(axis='both', which='minor', labelsize=10)\n",
    "ax.set_xlabel(r'Noise $\\alpha$',fontsize=18)\n",
    "ax.set_ylabel('Norm. avg. fitness',fontsize=18)\n",
    "ax.legend(loc=\"lower left\",fontsize=12)\n",
    "ax.set_title(fr'Norm. fitness vs. noise, $\\delta$ = {deltas_arr[1]}', fontsize=20)\n",
    "fig.savefig(\"20221212_POPULATIONS_optimal noise_delta10000.pdf\",format=\"pdf\",dpi=400)"
   ]
  },
  {
   "cell_type": "code",
   "execution_count": 40,
   "id": "e2d1e5ed",
   "metadata": {},
   "outputs": [],
   "source": [
    "#Loading to and saving from text:\n",
    "# np.savetxt(\"static_env_unreg_dist.txt\",p_unreg_sug.flatten())\n",
    "# np.savetxt(\"static_env_reg_dist.txt\",p_reg_sug.flatten())\n",
    "np.savetxt(\"static_env_unreg_dist_optimal_noise.txt\",p_unreg_sug.flatten())\n",
    "np.savetxt(\"static_env_reg_dist_optimal_noise.txt\",p_reg_sug.flatten())\n",
    "# p_unreg_sug = np.loadtxt(\"static_env_unreg_dist.txt\").reshape(len(deltas_arr),len(alphas_arr),len(sugars_arr),len(g))\n",
    "# p_reg_sug = np.loadtxt(\"static_env_reg_dist.txt\").reshape(len(deltas_arr),len(alphas_arr),len(sugars_arr),len(g))"
   ]
  },
  {
   "cell_type": "code",
   "execution_count": 398,
   "id": "73925239",
   "metadata": {},
   "outputs": [
    {
     "data": {
      "image/png": "[encoded data removed]",
      "text/plain": [
       "<Figure size 432x288 with 2 Axes>"
      ]
     },
     "metadata": {
      "needs_background": "light"
     },
     "output_type": "display_data"
    }
   ],
   "source": [
    "from matplotlib import cm \n",
    "from matplotlib.colors import ListedColormap,LinearSegmentedColormap\n",
    "#b81600\n",
    "N = 256\n",
    "no_reg = np.ones((N, 4))\n",
    "no_reg[:, 0] = np.linspace(0, 0/256, N) # R = 55\n",
    "no_reg[:, 1] = np.linspace(0, 66/256, N) # G = 126\n",
    "no_reg[:, 2] = np.linspace(0, 157/256, N)  # B = 184\n",
    "no_reg_cmp = ListedColormap(no_reg)\n",
    "#3171c5\n",
    "with_reg = np.ones((N, 4))\n",
    "with_reg[:, 0] = np.linspace(0, 147/256, N) # R = 255\n",
    "with_reg[:, 1] = np.linspace(0, 0/256, N) # G = 127\n",
    "with_reg[:, 2] = np.linspace(0, 58/256, N)  # B = 0\n",
    "with_reg_cmp = ListedColormap(with_reg)\n",
    "\n",
    "# plt.imshow(fit_norm_unreg.T,cmap=no_reg_cmp,origin=\"lower\")\n",
    "fig,ax = plt.subplots(1,1,constrained_layout='true')\n",
    "pic=ax.imshow(fit_norm_unreg.T,cmap=no_reg_cmp,origin='lower')\n",
    "cbar = plt.colorbar(pic,shrink=1.0)\n",
    "ax.set_xticks(ticks=range(5),labels=np.around(deltas_arr,decimals=2))\n",
    "ax.set_yticks(ticks=range(4),labels=np.around(np.sqrt(alphas_arr*g_peak),decimals=1))\n",
    "ax.tick_params(axis='both', which='major', labelsize=12)\n",
    "ax.tick_params(axis='both', which='minor', labelsize=10)\n",
    "ax.set_ylabel(r'Expression noise $\\alpha$',fontsize=18)\n",
    "ax.set_xlabel(r'Selection strength $\\delta$',fontsize=18)\n",
    "ax.set_title(r'Norm. avg. fitness (no reg.)',fontsize=20)\n",
    "fig.savefig(f\"20221211_POPULATIONS_norm_fit_unreg_vs_delta&alpha.pdf\",format=\"pdf\",dpi=400,bbox_inches=\"tight\")"
   ]
  },
  {
   "cell_type": "code",
   "execution_count": 399,
   "id": "258802c8",
   "metadata": {},
   "outputs": [
    {
     "data": {
      "image/png": "[encoded data removed]",
      "text/plain": [
       "<Figure size 432x288 with 2 Axes>"
      ]
     },
     "metadata": {
      "needs_background": "light"
     },
     "output_type": "display_data"
    }
   ],
   "source": [
    "# plt.imshow(fit_norm_reg.T,cmap=with_reg_cmp,origin=\"lower\")\n",
    "fig,ax = plt.subplots(1,1,constrained_layout='true')\n",
    "pic=ax.imshow(fit_norm_reg.T,cmap=with_reg_cmp,origin='lower')\n",
    "cbar = plt.colorbar(pic,shrink=1.0)\n",
    "ax.set_xticks(ticks=range(5),labels=np.around(deltas_arr,decimals=2))\n",
    "ax.set_yticks(ticks=range(4),labels=np.around(np.sqrt(alphas_arr*g_peak),decimals=1))\n",
    "ax.tick_params(axis='both', which='major', labelsize=12)\n",
    "ax.tick_params(axis='both', which='minor', labelsize=10)\n",
    "ax.set_ylabel(r'Expression noise $\\alpha$',fontsize=18)\n",
    "ax.set_xlabel(r'Selection strength $\\delta$',fontsize=18)\n",
    "ax.set_title(r'Norm. avg. fitness (with reg.)',fontsize=20)\n",
    "fig.savefig(f\"20221211_POPULATIONS_norm_fit_reg_vs_delta&alpha.pdf\",format=\"pdf\",dpi=400,bbox_inches=\"tight\")"
   ]
  },
  {
   "cell_type": "code",
   "execution_count": 32,
   "id": "46775242",
   "metadata": {
    "scrolled": true
   },
   "outputs": [
    {
     "data": {
      "image/png": "[encoded data removed]",
      "text/plain": [
       "<Figure size 432x288 with 2 Axes>"
      ]
     },
     "metadata": {
      "needs_background": "light"
     },
     "output_type": "display_data"
    }
   ],
   "source": [
    "#Plotting the final unreg and reg distributions:\n",
    "fig,ax = plt.subplots(2,1,constrained_layout=True,sharex=True)\n",
    "\n",
    "#Choosing which delta and alpha to represent:\n",
    "delta_idx = 4\n",
    "alpha_idx = 3\n",
    "\n",
    "# ax[0].set_box_aspect(1)\n",
    "ax[0].fill_between(g,np.mean(p_unreg_sug[delta_idx,alpha_idx],axis=0),alpha=0.75,label=f\"no reg., avg. fit = {np.round(fit_norm_unreg[delta_idx,alpha_idx],2)}\",color=CB_colors[0])\n",
    "ax[0].axvline(x=g_opt_arr[0],color='k',ls=':',label=r\"opt. exp $\\hat{g}_s$\")\n",
    "for g_opt_idx in range(1,len(g_opt_arr)):\n",
    "    ax[0].axvline(x=g_opt_arr[g_opt_idx],color='k',ls=':')\n",
    "ax[0].tick_params(axis='both', which='major', labelsize=12)\n",
    "ax[0].tick_params(axis='both', which='minor', labelsize=10)\n",
    "ax[0].set_ylim(top=0.085)\n",
    "ax[0].legend(loc=\"upper right\")\n",
    "    \n",
    "ax[1].fill_between(g,np.mean(p_reg_sug[delta_idx,alpha_idx],axis=0),alpha=0.75,label=f\"with reg., avg. fit = {np.round(fit_norm_reg[delta_idx,alpha_idx],2)}\",color=CB_colors[1])\n",
    "ax[1].axvline(x=g_opt_arr[0],color='k',ls=':',label=r\"opt. exp $\\hat{g}_s$\")\n",
    "for g_opt_idx in range(1,len(g_opt_arr)):\n",
    "    ax[1].axvline(x=g_opt_arr[g_opt_idx],color='k',ls=':')\n",
    "ax[1].set_xlabel(\"Gene expression $g$\",fontsize=18)\n",
    "ax[1].tick_params(axis='both', which='major', labelsize=12)\n",
    "ax[1].tick_params(axis='both', which='minor', labelsize=10)\n",
    "ax[1].set_ylim(top=0.085)\n",
    "ax[1].legend(loc=\"upper right\")\n",
    "\n",
    "# fig.supylabel(\"Distribution\",fontsize=18)\n",
    "# fig.text(-0.15,0.25,\"Ensemble distribution\",fontsize=18,rotation=90,transform=ax[1].transAxes)\n",
    "\n",
    "fig.suptitle(fr\"selection $\\delta$ = {deltas_arr[delta_idx]}; noise $\\alpha$ = {np.round(np.sqrt(alphas_arr[alpha_idx]*g_peak),decimals=1)}\",fontsize=20)\n",
    "\n",
    "fig.savefig(f\"20221212_POPULATIONS_static_env_delta={deltas_arr[delta_idx]},alpha={alphas_arr[alpha_idx]}.pdf\",format=\"pdf\",dpi=600)\n",
    "\n",
    "# ax.axvline(g_reg,color='k',ls='--',label=r'opt. expression $\\hat{g}_s$')\n",
    "# ax.tick_params(axis='both', which='major', labelsize=12)\n",
    "# ax.tick_params(axis='both', which='minor', labelsize=10)\n",
    "# ax.set_xlabel(r'Gene expression $g$',fontsize=18)\n",
    "# ax.set_ylabel('Distribution',fontsize=18)\n",
    "# ax.set_title('Final distributions of $g$', fontsize=20)\n",
    "# ax.legend(loc=\"upper left\")"
   ]
  },
  {
   "cell_type": "code",
   "execution_count": 152,
   "id": "a704d458",
   "metadata": {},
   "outputs": [
    {
     "data": {
      "text/plain": [
       "Text(0.5, 0.98, 'selection $\\\\delta$ = 10000; noise $\\\\alpha$ = 1')"
      ]
     },
     "execution_count": 152,
     "metadata": {},
     "output_type": "execute_result"
    },
    {
     "data": {
      "image/png": "[encoded data removed]",
      "text/plain": [
       "<Figure size 432x288 with 2 Axes>"
      ]
     },
     "metadata": {
      "needs_background": "light"
     },
     "output_type": "display_data"
    }
   ],
   "source": [
    "#Plotting the final unreg and reg distributions:\n",
    "fig,ax = plt.subplots(2,1,constrained_layout=True,sharex=True,sharey=True)\n",
    "# ax[0].set_box_aspect(1)\n",
    "ax[0].fill_between(g,np.mean(p_unreg_sug,axis=0),alpha=0.75,label=f\"without reg., avg. fit = {np.round(np.mean(fit_unreg_sug)/np.max(fitness(g,63,delta)),2)}\",color=CB_colors[0],rasterized=True)\n",
    "ax[0].axvline(x=g_opt_arr[0],color='k',ls=':',label=r\"opt. exp $\\hat{g}_s$\")\n",
    "for g_opt_idx in range(1,len(g_opt_arr)):\n",
    "    ax[0].axvline(x=g_opt_arr[g_opt_idx],color='k',ls=':')\n",
    "ax[0].legend(loc=\"best\")\n",
    "    \n",
    "ax[1].fill_between(g,np.mean(p_reg_sug,axis=0),alpha=0.75,label=f\"with reg., avg. fit = {np.round(np.mean(fit_reg_sug)/np.max(fitness(g,63,delta)),2)}\",color=CB_colors[1],rasterized=True)\n",
    "ax[1].axvline(x=g_opt_arr[0],color='k',ls=':',label=r\"opt. exp $\\hat{g}_s$\")\n",
    "for g_opt_idx in range(1,len(g_opt_arr)):\n",
    "    ax[1].axvline(x=g_opt_arr[g_opt_idx],color='k',ls=':')\n",
    "ax[1].set_xlabel(\"Gene expression $g$\",fontsize=18)\n",
    "ax[1].legend(loc=\"best\")\n",
    "\n",
    "fig.supylabel(\"Distribution\",fontsize=18)\n",
    "# fig.text(-0.15,0.25,\"Ensemble distribution\",fontsize=18,rotation=90,transform=ax[1].transAxes)\n",
    "\n",
    "fig.suptitle(fr\"selection $\\delta$ = {delta}; noise $\\alpha$ = {alpha}\",fontsize=20)\n",
    "\n",
    "# fig.savefig(f\"20221202_POPULATIONS_ensemble dist_over_multiple_env_K,delta,alpha={K,delta,alpha}.pdf\",format=\"pdf\",dpi=400)\n",
    "\n",
    "# ax.axvline(g_reg,color='k',ls='--',label=r'opt. expression $\\hat{g}_s$')\n",
    "# ax.tick_params(axis='both', which='major', labelsize=12)\n",
    "# ax.tick_params(axis='both', which='minor', labelsize=10)\n",
    "# ax.set_xlabel(r'Gene expression $g$',fontsize=18)\n",
    "# ax.set_ylabel('Distribution',fontsize=18)\n",
    "# ax.set_title('Final distributions of $g$', fontsize=20)\n",
    "# ax.legend(loc=\"upper left\")"
   ]
  },
  {
   "cell_type": "code",
   "execution_count": 91,
   "id": "83312174",
   "metadata": {},
   "outputs": [],
   "source": [
    "# #Setting up static sugar environments:\n",
    "# sug = 210\n",
    "# sug_dyn = np.ones_like(TimeRange)*sug\n",
    "# g_opt_dyn = np.ones_like(TimeRange)*g[np.argmax(fitness(g,sug,alpha))]\n",
    "\n",
    "# #Let's see what's the effect of regulation when sugar changes:\n",
    "# #The starting distributions:\n",
    "# g_reg = g[np.argmax(fitness(g,sug_dyn[0],delta))]\n",
    "# print(f\"g_reg={round(g_reg,2)}\")\n",
    "\n",
    "# #Generating the initial distributions:\n",
    "# g_peak = 0.5*(g_min+g_max)\n",
    "# #We don't want a standard deviation of 0, so even if the g_reg is 0, we set the s.d. of p0_reg to 1:\n",
    "# p0_unreg = Gaussian(g,g_peak,np.maximum(np.sqrt(alpha*g_peak),1))\n",
    "# p0_unreg = p0_unreg/np.trapz(p0_unreg,dx=dg)\n",
    "# # p0_reg = Gaussian(g,g_reg,np.maximum(np.sqrt(alpha*g_peak),1))\n",
    "# #Starting with p0_reg same as unreg, but cells can sense:\n",
    "# p0_reg = p0_unreg\n",
    "# p0_reg = p0_reg/np.trapz(p0_reg,dx=dg)"
   ]
  },
  {
   "cell_type": "code",
   "execution_count": 92,
   "id": "d10fb218",
   "metadata": {},
   "outputs": [],
   "source": [
    "# #Now, we evolve these in static sugar conditions:\n",
    "# dyn_p_unreg, dyn_p_reg, dyn_fit_unreg, dyn_norm_fit_unreg, dyn_fit_reg, dyn_norm_fit_reg = selection_dyn_const_noise(p0_unreg,p0_reg,sug_dyn,K,alpha,delta,T,dt)"
   ]
  },
  {
   "cell_type": "code",
   "execution_count": 93,
   "id": "f9b743cd",
   "metadata": {},
   "outputs": [],
   "source": [
    "# np.max(np.trapz(dyn_p_unreg,dx=dg,axis=1))"
   ]
  },
  {
   "cell_type": "code",
   "execution_count": 94,
   "id": "c3582506",
   "metadata": {},
   "outputs": [],
   "source": [
    "# #To check if the distributions stay normalized:\n",
    "# # np.min(np.trapz(dyn_p_unreg,dx=dg,axis=1))\n",
    "# # np.max(np.trapz(dyn_p_reg,dx=dg,axis=1))\n",
    "\n",
    "# #Plotting the final unreg and reg distributions:\n",
    "# fig,ax = plt.subplots(1,1,constrained_layout=True)\n",
    "# # ax.set_box_aspect(1)\n",
    "# ax.fill_between(g,dyn_p_unreg[-1],alpha=0.75,label=\"without reg.\",color=CB_colors[0])\n",
    "# ax.fill_between(g,dyn_p_reg[-1],alpha=0.75,label=\"with reg.\",color=CB_colors[1])\n",
    "# ax.axvline(g_reg,color='k',ls='--',label=r'opt. expression $\\hat{g}_s$')\n",
    "# ax.tick_params(axis='both', which='major', labelsize=12)\n",
    "# ax.tick_params(axis='both', which='minor', labelsize=10)\n",
    "# ax.set_xlabel(r'Gene expression $g$',fontsize=18)\n",
    "# ax.set_ylabel('Distribution',fontsize=18)\n",
    "# ax.set_title('Final distributions of $g$', fontsize=20)\n",
    "# ax.legend(loc=\"upper left\")\n",
    "# fig.savefig(\"320221211_POPULATIONS_final_dists_in_static_environment.pdf\",format=\"pdf\",dpi=400)"
   ]
  },
  {
   "cell_type": "code",
   "execution_count": 95,
   "id": "56cdd2a0",
   "metadata": {},
   "outputs": [],
   "source": [
    "# #plotting the distributions:\n",
    "# from matplotlib import cm \n",
    "# from matplotlib.colors import ListedColormap,LinearSegmentedColormap\n",
    "# #b81600\n",
    "# N = 256\n",
    "# no_reg = np.ones((N, 4))\n",
    "# no_reg[:, 0] = np.linspace(0, 0/256, N) # R = 55\n",
    "# no_reg[:, 1] = np.linspace(0, 66/256, N) # G = 126\n",
    "# no_reg[:, 2] = np.linspace(0, 157/256, N)  # B = 184\n",
    "# no_reg_cmp = ListedColormap(no_reg)\n",
    "# #3171c5\n",
    "# with_reg = np.ones((N, 4))\n",
    "# with_reg[:, 0] = np.linspace(0, 147/256, N) # R = 255\n",
    "# with_reg[:, 1] = np.linspace(0, 0/256, N) # G = 127\n",
    "# with_reg[:, 2] = np.linspace(0, 58/256, N)  # B = 0\n",
    "# with_reg_cmp = ListedColormap(with_reg)\n",
    "\n",
    "\n",
    "# fig,ax = plt.subplots(1,1,constrained_layout='true')\n",
    "# pic=ax.imshow(dyn_p_unreg.T,cmap=no_reg_cmp,origin='lower',aspect='auto',rasterized=True)\n",
    "# cbar = plt.colorbar(pic,shrink=1.0)\n",
    "\n",
    "# xticks = ax.get_xticks()\n",
    "# yticks = ax.get_yticks()\n",
    "# ax.set_xticks(ticks = xticks[1:-1],labels=np.around(xticks[1:-1]*dt,2))\n",
    "# ax.set_yticks(ticks = yticks[1:-1],labels=np.around(yticks[1:-1]*dg,2))\n",
    "# ax.tick_params(axis='both', which='major', labelsize=12)\n",
    "# ax.tick_params(axis='both', which='minor', labelsize=10)\n",
    "# ax.plot(g_opt_dyn/dg,'w--',label=r'opt. exp. $\\hat{g}_s$')\n",
    "# # ax.set_xlabel(r'Time $t$',fontsize=18)\n",
    "# ax.set_ylabel(r'$g$ dist. (no reg.)',fontsize=18)\n",
    "# ax.set_title(r'Distribution vs. time',fontsize=20)\n",
    "# ax.legend(loc='best')\n",
    "# fig.savefig(\"20221211_POPULATIONS_dyn_unreg.pdf\",format=\"pdf\",dpi=400)"
   ]
  },
  {
   "cell_type": "code",
   "execution_count": 96,
   "id": "80e717a4",
   "metadata": {},
   "outputs": [],
   "source": [
    "# fig,ax = plt.subplots(1,1,constrained_layout='true')\n",
    "# pic=ax.imshow(dyn_p_reg.T,cmap=with_reg_cmp,origin='lower',aspect='auto',rasterized=True)\n",
    "# cbar = plt.colorbar(pic,shrink=1.0)\n",
    "\n",
    "# xticks = ax.get_xticks()\n",
    "# yticks = ax.get_yticks()\n",
    "# ax.set_xticks(ticks = xticks[1:-1],labels=np.around(xticks[1:-1]*dt,2))\n",
    "# ax.set_yticks(ticks = yticks[1:-1],labels=np.around(yticks[1:-1]*dg,2))\n",
    "# ax.tick_params(axis='both', which='major', labelsize=12)\n",
    "# ax.tick_params(axis='both', which='minor', labelsize=10)\n",
    "# ax.set_xlabel(r'Time $t$ (arb. units)',fontsize=18)\n",
    "# ax.set_ylabel(r'$g$ dist. (with reg.)',fontsize=18)\n",
    "# ax.plot(g_opt_dyn/dg,'w--',label=r'opt. exp. $\\hat{g}_s$')\n",
    "# ax.legend(loc='best')\n",
    "# fig.savefig(\"20221211_POPULATIONS_dyn_reg.pdf\",format=\"pdf\",dpi=400)\n",
    "# # ax.set_title(r'Distribution vs. time',fontsize=20)"
   ]
  }
 ],
 "metadata": {
  "kernelspec": {
   "display_name": "Python 3 (ipykernel)",
   "language": "python",
   "name": "python3"
  },
  "language_info": {
   "codemirror_mode": {
    "name": "ipython",
    "version": 3
   },
   "file_extension": ".py",
   "mimetype": "text/x-python",
   "name": "python",
   "nbconvert_exporter": "python",
   "pygments_lexer": "ipython3",
   "version": "3.9.12"
  }
 },
 "nbformat": 4,
 "nbformat_minor": 5
}
